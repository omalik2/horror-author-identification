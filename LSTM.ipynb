{
 "cells": [
  {
   "cell_type": "code",
   "execution_count": 41,
   "metadata": {
    "collapsed": false
   },
   "outputs": [],
   "source": [
    "import matplotlib.pyplot as plt\n",
    "import numpy as np\n",
    "import tensorflow as tf\n",
    "import re\n",
    "import csv\n",
    "import random\n",
    "from sklearn.preprocessing import LabelEncoder\n",
    "import os\n",
    "from gensim.models import word2vec\n",
    "from sklearn.utils import shuffle\n",
    "from nltk import word_tokenize"
   ]
  },
  {
   "cell_type": "code",
   "execution_count": 42,
   "metadata": {
    "collapsed": true
   },
   "outputs": [],
   "source": [
    "#convert label to numeric vector\n",
    "def label_convert(data):\n",
    "    enc = LabelEncoder()\n",
    "    nLabels = len(set(enc.fit(data).classes_))\n",
    "    data = enc.transform(data)\n",
    "    return np.eye(nLabels)[data].astype(\"int32\")"
   ]
  },
  {
   "cell_type": "code",
   "execution_count": 43,
   "metadata": {
    "collapsed": true
   },
   "outputs": [],
   "source": [
    "#preprocess line\n",
    "def process_line(line):\n",
    "    return word_tokenize(line.lower())"
   ]
  },
  {
   "cell_type": "code",
   "execution_count": 44,
   "metadata": {
    "collapsed": true
   },
   "outputs": [],
   "source": [
    "#convert data to a single line for vocabulary\n",
    "def convert_single_string(dataset):\n",
    "    q = \" \"\n",
    "    stringData = []\n",
    "    for row in dataset:\n",
    "        line = q.join(row)\n",
    "        stringData.append(line)\n",
    "    string = q.join(stringData)\n",
    "    \n",
    "    return {\"single_string\" : string, \"lines\" : stringData }"
   ]
  },
  {
   "cell_type": "code",
   "execution_count": 45,
   "metadata": {
    "collapsed": true
   },
   "outputs": [],
   "source": [
    "#plot\n",
    "def plot(x1, y1, x2, y2, label1 = None, label2 = None, title = None, x_label = None, y_label = None):\n",
    "    fig = plt.figure(figsize=(8,8))\n",
    "    ax1 = fig.add_subplot(1,1,1)\n",
    "    ax1.plot(x1, y1, color='navy', label = label1)\n",
    "    ax1.tick_params(bottom='off',top='off',left='off',right='off')\n",
    "    ax1.spines[\"right\"].set_visible(False)\n",
    "    ax1.spines[\"left\"].set_visible(False)\n",
    "    ax1.spines[\"top\"].set_visible(False)\n",
    "    ax1.spines[\"bottom\"].set_visible(False)\n",
    "    ax1.set(title= title, ylabel= y_label, xlabel = x_label)\n",
    "    ax1.plot(x2, y2,color= 'green', label = label2)\n",
    "    ax1.legend(loc= 'upper center', bbox_to_anchor=(0.5, -0.1),  shadow=True, ncol=2)\n",
    "    ax1.grid()\n",
    "    plt.savefig(\"{}.png\".format(title))\n",
    "    plt.show()"
   ]
  },
  {
   "cell_type": "code",
   "execution_count": 47,
   "metadata": {
    "collapsed": false
   },
   "outputs": [],
   "source": [
    "#read files\n",
    "f = open('train.csv','r')\n",
    "trainData = list(csv.reader(f))[1:]\n",
    "f = open('test.csv','r')\n",
    "testData = list(csv.reader(f)) [1:]\n",
    "\n",
    "#shuffle training data\n",
    "random.shuffle(trainData)"
   ]
  },
  {
   "cell_type": "code",
   "execution_count": 48,
   "metadata": {
    "collapsed": false
   },
   "outputs": [],
   "source": [
    "#split input and output\n",
    "trainIds, trainSentences, trainTarget = zip(*trainData) \n",
    "testIds, testSentences = zip(*testData) "
   ]
  },
  {
   "cell_type": "code",
   "execution_count": 49,
   "metadata": {
    "collapsed": false
   },
   "outputs": [],
   "source": [
    "noRows = len(trainSentences)\n",
    "trainTarget = label_convert(trainTarget)\n",
    "\n",
    "#testTarget = label_convert(testTarget)"
   ]
  },
  {
   "cell_type": "code",
   "execution_count": 50,
   "metadata": {
    "collapsed": true
   },
   "outputs": [],
   "source": [
    "#get data as list\n",
    "cleanTrain = [process_line(row) for row in trainSentences]\n",
    "cleanTest = [process_line(row) for row in testSentences]\n",
    "whole = cleanTrain + cleanTest"
   ]
  },
  {
   "cell_type": "code",
   "execution_count": 51,
   "metadata": {
    "collapsed": true
   },
   "outputs": [],
   "source": [
    "#train word to vector\n",
    "model = word2vec.Word2Vec(whole, size  = 40, window = 20, min_count=1, iter = 500)"
   ]
  },
  {
   "cell_type": "code",
   "execution_count": 52,
   "metadata": {
    "collapsed": true
   },
   "outputs": [],
   "source": [
    "#define max length for each input\n",
    "maxLength = 100 #max(trainLen) # is 870\n",
    "trainLen = [min(len(each), maxLength) for each in cleanTrain]\n",
    "testLen = [min(len(each), maxLength) for each in cleanTest]"
   ]
  },
  {
   "cell_type": "code",
   "execution_count": 53,
   "metadata": {
    "collapsed": false
   },
   "outputs": [
    {
     "name": "stdout",
     "output_type": "stream",
     "text": [
      "Done with the Row:  6\n",
      "Done with the Row:  261\n",
      "Done with the Row:  472\n",
      "Done with the Row:  623\n",
      "Done with the Row:  708\n",
      "Done with the Row:  786\n",
      "Done with the Row:  910\n",
      "Done with the Row:  928\n",
      "Done with the Row:  1092\n",
      "Done with the Row:  1161\n",
      "Done with the Row:  1306\n",
      "Done with the Row:  1445\n",
      "Done with the Row:  1912\n",
      "Done with the Row:  1966\n",
      "Done with the Row:  2109\n",
      "Done with the Row:  2280\n",
      "Done with the Row:  2405\n",
      "Done with the Row:  2452\n",
      "Done with the Row:  2608\n",
      "Done with the Row:  2807\n",
      "Done with the Row:  2878\n",
      "Done with the Row:  2902\n",
      "Done with the Row:  2935\n",
      "Done with the Row:  3098\n",
      "Done with the Row:  3421\n",
      "Done with the Row:  3433\n",
      "Done with the Row:  3644\n",
      "Done with the Row:  3668\n",
      "Done with the Row:  3744\n",
      "Done with the Row:  3790\n",
      "Done with the Row:  3906\n",
      "Done with the Row:  3951\n",
      "Done with the Row:  4057\n",
      "Done with the Row:  4177\n",
      "Done with the Row:  4225\n",
      "Done with the Row:  4922\n",
      "Done with the Row:  4987\n",
      "Done with the Row:  5091\n",
      "Done with the Row:  5173\n",
      "Done with the Row:  5210\n",
      "Done with the Row:  5213\n",
      "Done with the Row:  5439\n",
      "Done with the Row:  5456\n",
      "Done with the Row:  5915\n",
      "Done with the Row:  6044\n",
      "Done with the Row:  6045\n",
      "Done with the Row:  6056\n",
      "Done with the Row:  6080\n",
      "Done with the Row:  6096\n",
      "Done with the Row:  6245\n",
      "Done with the Row:  6539\n",
      "Done with the Row:  6589\n",
      "Done with the Row:  6628\n",
      "Done with the Row:  6669\n",
      "Done with the Row:  6921\n",
      "Done with the Row:  7041\n",
      "Done with the Row:  7210\n",
      "Done with the Row:  7326\n",
      "Done with the Row:  7337\n",
      "Done with the Row:  7387\n",
      "Done with the Row:  7408\n",
      "Done with the Row:  7506\n",
      "Done with the Row:  7593\n",
      "Done with the Row:  7859\n",
      "Done with the Row:  7865\n",
      "Done with the Row:  8144\n",
      "Done with the Row:  8170\n",
      "Done with the Row:  8202\n",
      "Done with the Row:  8387\n",
      "Done with the Row:  8441\n",
      "Done with the Row:  8488\n",
      "Done with the Row:  8694\n",
      "Done with the Row:  8704\n",
      "Done with the Row:  8851\n",
      "Done with the Row:  8979\n",
      "Done with the Row:  8989\n",
      "Done with the Row:  9034\n",
      "Done with the Row:  9061\n",
      "Done with the Row:  9175\n",
      "Done with the Row:  9336\n",
      "Done with the Row:  9546\n",
      "Done with the Row:  9572\n",
      "Done with the Row:  9617\n",
      "Done with the Row:  9717\n",
      "Done with the Row:  9825\n",
      "Done with the Row:  10155\n",
      "Done with the Row:  10205\n",
      "Done with the Row:  10444\n",
      "Done with the Row:  10568\n",
      "Done with the Row:  10666\n",
      "Done with the Row:  10765\n",
      "Done with the Row:  10785\n",
      "Done with the Row:  10968\n",
      "Done with the Row:  11028\n",
      "Done with the Row:  11043\n",
      "Done with the Row:  11104\n",
      "Done with the Row:  11120\n",
      "Done with the Row:  11644\n",
      "Done with the Row:  11658\n",
      "Done with the Row:  11742\n",
      "Done with the Row:  11915\n",
      "Done with the Row:  12245\n",
      "Done with the Row:  12278\n",
      "Done with the Row:  12564\n",
      "Done with the Row:  12665\n",
      "Done with the Row:  12805\n",
      "Done with the Row:  12920\n",
      "Done with the Row:  12943\n",
      "Done with the Row:  13065\n",
      "Done with the Row:  13127\n",
      "Done with the Row:  13305\n",
      "Done with the Row:  13316\n",
      "Done with the Row:  13719\n",
      "Done with the Row:  13765\n",
      "Done with the Row:  13780\n",
      "Done with the Row:  13862\n",
      "Done with the Row:  13886\n",
      "Done with the Row:  13959\n",
      "Done with the Row:  13987\n",
      "Done with the Row:  14226\n",
      "Done with the Row:  14419\n",
      "Done with the Row:  14589\n",
      "Done with the Row:  14753\n",
      "Done with the Row:  14852\n",
      "Done with the Row:  14876\n",
      "Done with the Row:  14879\n",
      "Done with the Row:  14900\n",
      "Done with the Row:  14957\n",
      "Done with the Row:  15166\n",
      "Done with the Row:  15200\n",
      "Done with the Row:  15284\n",
      "Done with the Row:  15757\n",
      "Done with the Row:  15824\n",
      "Done with the Row:  16064\n",
      "Done with the Row:  16110\n",
      "Done with the Row:  16369\n",
      "Done with the Row:  16391\n",
      "Done with the Row:  16717\n",
      "Done with the Row:  17008\n",
      "Done with the Row:  17018\n",
      "Done with the Row:  17080\n",
      "Done with the Row:  17086\n",
      "Done with the Row:  17116\n",
      "Done with the Row:  17344\n",
      "Done with the Row:  17430\n",
      "Done with the Row:  17478\n",
      "Done with the Row:  17935\n",
      "Done with the Row:  18021\n",
      "Done with the Row:  18044\n",
      "Done with the Row:  18056\n",
      "Done with the Row:  18099\n",
      "Done with the Row:  18194\n",
      "Done with the Row:  18196\n",
      "Done with the Row:  18301\n",
      "Done with the Row:  18361\n",
      "Done with the Row:  18418\n",
      "Done with the Row:  18422\n",
      "Done with the Row:  18452\n",
      "Done with the Row:  18724\n",
      "Done with the Row:  18911\n",
      "Done with the Row:  19065\n",
      "Done with the Row:  19105\n",
      "Done with the Row:  19254\n",
      "Done with the Row:  19287\n",
      "Done with the Row:  19321\n",
      "Done with the Row:  19458\n",
      "Done with the Row:  19516\n",
      "Done with the Row:  19531\n",
      "Done with the Row:  70\n",
      "Done with the Row:  106\n",
      "Done with the Row:  143\n",
      "Done with the Row:  592\n",
      "Done with the Row:  596\n",
      "Done with the Row:  612\n",
      "Done with the Row:  666\n",
      "Done with the Row:  854\n",
      "Done with the Row:  913\n",
      "Done with the Row:  1183\n",
      "Done with the Row:  1413\n",
      "Done with the Row:  1446\n",
      "Done with the Row:  1652\n",
      "Done with the Row:  1684\n",
      "Done with the Row:  1895\n",
      "Done with the Row:  1924\n",
      "Done with the Row:  1995\n",
      "Done with the Row:  2100\n",
      "Done with the Row:  2149\n",
      "Done with the Row:  2452\n",
      "Done with the Row:  2520\n",
      "Done with the Row:  2568\n",
      "Done with the Row:  2905\n",
      "Done with the Row:  2913\n",
      "Done with the Row:  2937\n",
      "Done with the Row:  3078\n",
      "Done with the Row:  3135\n",
      "Done with the Row:  3307\n",
      "Done with the Row:  3337\n",
      "Done with the Row:  3528\n",
      "Done with the Row:  3695\n",
      "Done with the Row:  3878\n",
      "Done with the Row:  4133\n",
      "Done with the Row:  4439\n",
      "Done with the Row:  4443\n",
      "Done with the Row:  4556\n",
      "Done with the Row:  4696\n",
      "Done with the Row:  4833\n",
      "Done with the Row:  4873\n",
      "Done with the Row:  4908\n",
      "Done with the Row:  4945\n",
      "Done with the Row:  5078\n",
      "Done with the Row:  5100\n",
      "Done with the Row:  5421\n",
      "Done with the Row:  5508\n",
      "Done with the Row:  5532\n",
      "Done with the Row:  5773\n",
      "Done with the Row:  5849\n",
      "Done with the Row:  5984\n",
      "Done with the Row:  6215\n",
      "Done with the Row:  6471\n",
      "Done with the Row:  6572\n",
      "Done with the Row:  6615\n",
      "Done with the Row:  6644\n",
      "Done with the Row:  6676\n",
      "Done with the Row:  6725\n",
      "Done with the Row:  6832\n",
      "Done with the Row:  7014\n",
      "Done with the Row:  7019\n",
      "Done with the Row:  7365\n",
      "Done with the Row:  7389\n",
      "Done with the Row:  7660\n",
      "Done with the Row:  7713\n",
      "Done with the Row:  7897\n",
      "Done with the Row:  8031\n"
     ]
    }
   ],
   "source": [
    "#convert numeric\n",
    "#Train Data\n",
    "row_count = 0\n",
    "trainNumeric = np.zeros((len(cleanTrain), maxLength), dtype='int32')\n",
    "\n",
    "for row in cleanTrain:\n",
    "    index_count = 0\n",
    "    for each in row:\n",
    "        try:\n",
    "            trainNumeric[row_count][index_count] = model.wv.vocab[each].index\n",
    "        except:\n",
    "            trainNumeric[row_count][index_count] = 0\n",
    "        index_count += 1\n",
    "        if index_count >= maxLength:\n",
    "            print(\"Done with the Row: \", row_count)\n",
    "            break       \n",
    "    row_count += 1\n",
    "\n",
    "#Test Data\n",
    "row_count = 0\n",
    "testNumeric = np.zeros((len(cleanTest), maxLength), dtype='int32')\n",
    "\n",
    "for row in cleanTest:\n",
    "    index_count = 0\n",
    "    for each in row:\n",
    "        try:\n",
    "            testNumeric[row_count][index_count] = model.wv.vocab[each].index\n",
    "        except:\n",
    "            testNumeric[row_count][index_count] = 0\n",
    "        index_count += 1\n",
    "        if index_count >= maxLength:\n",
    "            print(\"Done with the Row: \", row_count)\n",
    "            break       \n",
    "    row_count += 1"
   ]
  },
  {
   "cell_type": "code",
   "execution_count": 54,
   "metadata": {
    "collapsed": true
   },
   "outputs": [],
   "source": [
    "embeddingMatrix = np.zeros((len(model.wv.vocab), 40), dtype=\"float32\")\n",
    "for i in range(len(model.wv.vocab)):\n",
    "    embeddingVector = model.wv[model.wv.index2word[i]]\n",
    "    if embeddingVector is not None:\n",
    "        embeddingMatrix[i] = embeddingVector"
   ]
  },
  {
   "cell_type": "code",
   "execution_count": 58,
   "metadata": {
    "collapsed": true
   },
   "outputs": [],
   "source": [
    "#Model Parameters\n",
    "ValidIndexStart = 15599 #index to split some of data as test\n",
    "\n",
    "batchSize = 50\n",
    "lstmUnits = 128\n",
    "numClasses = 3\n",
    "\n",
    "epochs = 5\n",
    "display_step = 1"
   ]
  },
  {
   "cell_type": "code",
   "execution_count": 59,
   "metadata": {
    "collapsed": false
   },
   "outputs": [
    {
     "name": "stderr",
     "output_type": "stream",
     "text": [
      "/Users/HAD/anaconda/lib/python3.6/site-packages/tensorflow/python/ops/gradients_impl.py:96: UserWarning: Converting sparse IndexedSlices to a dense Tensor of unknown shape. This may consume a large amount of memory.\n",
      "  \"Converting sparse IndexedSlices to a dense Tensor of unknown shape. \"\n"
     ]
    }
   ],
   "source": [
    "tf.reset_default_graph()\n",
    "\n",
    "\n",
    "input_data = tf.placeholder(tf.int32, [None, maxLength])\n",
    "\n",
    "input_length = tf.placeholder(tf.int32, [None])\n",
    "\n",
    "labels = tf.placeholder(tf.int32, [None, numClasses])\n",
    "\n",
    "# weight & bias\n",
    "W =tf.Variable(tf.random_normal([lstmUnits, numClasses]))\n",
    "b = tf.Variable(tf.random_normal([numClasses]))\n",
    "\n",
    "data = tf.nn.embedding_lookup(embeddingMatrix,input_data)\n",
    "\n",
    "lstmCell = tf.contrib.rnn.LSTMCell(lstmUnits)\n",
    "lstmCell = tf.contrib.rnn.MultiRNNCell([lstmCell] * 1)\n",
    "lstmCell = tf.contrib.rnn.DropoutWrapper(cell=lstmCell, output_keep_prob=0.5)\n",
    "\n",
    "value, _ = tf.nn.dynamic_rnn(lstmCell, data, dtype=tf.float32, sequence_length=input_length)\n",
    "\n",
    "word_index = tf.reshape(input_length, [tf.shape(value)[0]])-1\n",
    "\n",
    "sentence_index = tf.range(0, tf.shape(input_data)[0]) * (tf.shape(input_data)[1])\n",
    "                      \n",
    "index = sentence_index + word_index\n",
    "\n",
    "flat = tf.reshape(value, [-1, tf.shape(value)[2]])\n",
    "        \n",
    "last = tf.gather(flat, index)\n",
    "\n",
    "out_layer = tf.add(tf.matmul(last,W), b)\n",
    "\n",
    "prediction = tf.nn.softmax(out_layer)\n",
    "\n",
    "correctPred = tf.equal(tf.argmax(prediction,1), tf.argmax(labels,1))\n",
    "\n",
    "accuracy = tf.reduce_mean(tf.cast(correctPred, tf.float32))\n",
    "\n",
    "loss = tf.reduce_mean(tf.nn.softmax_cross_entropy_with_logits(logits=out_layer,\n",
    "                                                              labels=labels))\n",
    "\n",
    "optimizer = tf.train.AdamOptimizer().minimize(loss)\n",
    "\n",
    "init = tf.global_variables_initializer()\n"
   ]
  },
  {
   "cell_type": "code",
   "execution_count": 60,
   "metadata": {
    "collapsed": false
   },
   "outputs": [
    {
     "name": "stdout",
     "output_type": "stream",
     "text": [
      "Epoch Done:0\n",
      "------------------------------------------------------------\n",
      "Epoch: 0\n",
      "Train Batch:\n",
      "Loss:0.5601\n",
      " Accuracy: 0.790\n",
      "\n",
      "Validation Batch:\n",
      " Loss:0.606\n",
      " Accuracy:0.782\n",
      "Epoch Done:1\n",
      "------------------------------------------------------------\n",
      "Epoch: 1\n",
      "Train Batch:\n",
      "Loss:0.4108\n",
      " Accuracy: 0.845\n",
      "\n",
      "Validation Batch:\n",
      " Loss:0.488\n",
      " Accuracy:0.817\n",
      "Epoch Done:2\n",
      "------------------------------------------------------------\n",
      "Epoch: 2\n",
      "Train Batch:\n",
      "Loss:0.3640\n",
      " Accuracy: 0.865\n",
      "\n",
      "Validation Batch:\n",
      " Loss:0.488\n",
      " Accuracy:0.817\n",
      "Epoch Done:3\n",
      "------------------------------------------------------------\n",
      "Epoch: 3\n",
      "Train Batch:\n",
      "Loss:0.3186\n",
      " Accuracy: 0.884\n",
      "\n",
      "Validation Batch:\n",
      " Loss:0.488\n",
      " Accuracy:0.826\n",
      "Epoch Done:4\n",
      "------------------------------------------------------------\n",
      "Epoch: 4\n",
      "Train Batch:\n",
      "Loss:0.2492\n",
      " Accuracy: 0.911\n",
      "\n",
      "Validation Batch:\n",
      " Loss:0.461\n",
      " Accuracy:0.837\n",
      "Optimization Finished!\n"
     ]
    }
   ],
   "source": [
    "#Run Model\n",
    "valLoss1 = []  #results for validation loss\n",
    "trainLoss1 = [] #train loss\n",
    "valAcc1 = []\n",
    "trainAcc1 = []\n",
    "\n",
    "with tf.Session() as sess:\n",
    "    # Initialize\n",
    "    sess.run(init)\n",
    "    #train model\n",
    "    ValNumeric, ValLen, ValTarget = trainNumeric[ValidIndexStart+1: ], trainLen[ValidIndexStart+1: ], trainTarget[ValidIndexStart+1: ]  \n",
    "    trainNumeric_, trainLen_, trainTarget_ = trainNumeric[:ValidIndexStart], trainLen[:ValidIndexStart], trainTarget[:ValidIndexStart]\n",
    "    \n",
    "    for epoch in range(epochs):\n",
    "        nBatch = int( trainNumeric.shape[0] / batchSize )\n",
    "        trainNumeric_, trainLen_, trainTarget_ = shuffle(trainNumeric_, trainLen_, trainTarget_)\n",
    "        trainBatchesSentenceSplit = np.array_split(trainNumeric_, nBatch)\n",
    "        trainBatchesLenSplit = np.array_split(trainLen_, nBatch)\n",
    "        trainBatchesLabelSplit = np.array_split(trainTarget_, nBatch)\n",
    "        \n",
    "        for i in range(nBatch):\n",
    "            batch = trainBatchesSentenceSplit[i]\n",
    "            length = trainBatchesLenSplit[i]\n",
    "            target = trainBatchesLabelSplit[i]\n",
    "        # Run optimization op (backprop) and cost op (to get loss value)\n",
    "            _= sess.run([optimizer], feed_dict={input_data: batch,\n",
    "                                                  input_length: length,\n",
    "                                                  labels: target\n",
    "                                                  })\n",
    "        print(\"Epoch Done:{}\".format(epoch))\n",
    "        # Display logs per epoch\n",
    "        if epoch % display_step == 0:\n",
    "            trainLoss, trainAcc, trainPredictionModel1 = sess.run([loss, accuracy, prediction], feed_dict = {input_data:trainNumeric_,\n",
    "                                                                          input_length:trainLen_, \n",
    "                                                                          labels:trainTarget_         \n",
    "                                                                           })\n",
    "            print(\"-\"*60)\n",
    "            print(\"Epoch: {}\\nTrain Batch:\\nLoss:{:0.4f}\\n Accuracy: {:0.3f}\\n\".format(epoch,trainLoss,trainAcc))\n",
    "            \n",
    "            # Validate model\n",
    "            ValLoss, ValAcc = sess.run([loss, accuracy],feed_dict = {input_data: ValNumeric,\n",
    "                                                                     input_length: ValLen,                               \n",
    "                                                                     labels: ValTarget \n",
    "                                                                    })\n",
    "            print(\"Validation Batch:\\n Loss:{:0.3f}\\n Accuracy:{:0.3f}\".format(ValLoss,ValAcc))\n",
    "            \n",
    "            trainLoss1.append([epoch,trainLoss])\n",
    "            trainAcc1.append([epoch,trainAcc])\n",
    "            valLoss1.append([epoch,ValLoss])\n",
    "            valAcc1.append([epoch,ValAcc])   \n",
    "            \n",
    "   \n",
    "               \n",
    "                \n",
    "    print(\"Optimization Finished!\")\n",
    "    \n",
    "    #predict test\n",
    "    testPrediction = sess.run([prediction], feed_dict = {input_data: testNumeric, input_length: testLen} )    \n",
    "        "
   ]
  },
  {
   "cell_type": "code",
   "execution_count": 63,
   "metadata": {
    "collapsed": true
   },
   "outputs": [],
   "source": [
    "#%% formatting for plots\n",
    "x1, y1 = zip(*valLoss1)\n",
    "x2, y2 = zip(*trainLoss1)\n",
    "x3, y3 = zip(*valAcc1)\n",
    "x4, y4 = zip(*trainAcc1)"
   ]
  },
  {
   "cell_type": "code",
   "execution_count": 64,
   "metadata": {
    "collapsed": false
   },
   "outputs": [
    {
     "data": {
      "image/png": "[encoded data removed]",
      "text/plain": [
       "<matplotlib.figure.Figure at 0x128e8e400>"
      ]
     },
     "metadata": {},
     "output_type": "display_data"
    },
    {
     "data": {
      "image/png": "[encoded data removed]",
      "text/plain": [
       "<matplotlib.figure.Figure at 0x128e8e048>"
      ]
     },
     "metadata": {},
     "output_type": "display_data"
    }
   ],
   "source": [
    "%matplotlib inline\n",
    "plot(x1, y1, x2, y2, label1 = \"Validation Loss\", label2 = \"Training Loss\", title = \" Loss\",y_label = \"Loss\", x_label = \"Epoch\")\n",
    "plot(x3, y3, x4, y4, label1 = \"Validation Accuracy\", label2 = \"Training Loss\", title = \"Model Accuracy\",y_label = \"Accuracy\", x_label = \"Epoch\") "
   ]
  },
  {
   "cell_type": "code",
   "execution_count": 74,
   "metadata": {
    "collapsed": false
   },
   "outputs": [],
   "source": [
    "\n"
   ]
  },
  {
   "cell_type": "code",
   "execution_count": 80,
   "metadata": {
    "collapsed": false
   },
   "outputs": [],
   "source": [
    "predictions = [] \n",
    "name = \"LSTM-128-2\"\n",
    "for i, row in enumerate(testPrediction[0].tolist()):\n",
    "    row.insert(0,testIds[i])\n",
    "    predictions.append(row)\n",
    "predictions.insert(0, [\"id\", \"EAP\", \"HPL\", \"MVS\"])\n",
    "with open(name + \".csv\", \"w\") as f:\n",
    "    csv.writer(f).writerows(predictions)"
   ]
  },
  {
   "cell_type": "code",
   "execution_count": null,
   "metadata": {
    "collapsed": true
   },
   "outputs": [],
   "source": []
  }
 ],
 "metadata": {
  "kernelspec": {
   "display_name": "Python 3",
   "language": "python",
   "name": "python3"
  },
  "language_info": {
   "codemirror_mode": {
    "name": "ipython",
    "version": 3
   },
   "file_extension": ".py",
   "mimetype": "text/x-python",
   "name": "python",
   "nbconvert_exporter": "python",
   "pygments_lexer": "ipython3",
   "version": "3.6.0"
  }
 },
 "nbformat": 4,
 "nbformat_minor": 2
}
